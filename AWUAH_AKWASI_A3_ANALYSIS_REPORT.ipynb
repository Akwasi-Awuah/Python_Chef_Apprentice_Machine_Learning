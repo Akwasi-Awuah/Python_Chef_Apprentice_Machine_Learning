{
 "cells": [
  {
   "cell_type": "markdown",
   "metadata": {},
   "source": [
    "# INTRODUCTION\n",
    "Apprentice Chef, Inc. is a home-prep food delivery company, developed for the busy professional Executives after three years of services want to better understand how much revenue to expect from each customer within the first year of subscribing to its services. A cross-selling promotion has been developed to create a competitive advantage in the market.\n",
    "\n",
    "\n",
    "# Key Insight from Cross-Sell Promotion (AUC SCORE – 0.87)\n",
    "It can be observed from the correlation analysis that customers with professional (0.19) and personal (0.04) emails are more likely to subscribe to its promotion than those with junk email. Customers with junk emails fall into the category of users who may not actively interact with the platform meaning when notifications of cross-sell success were sent such customers were not aware because it did not appear in their primary email. This segmentation is important because behavioral segmentation provides a guide in categorizing customers which provides a better understanding of challenges in cross-selling (Bakuyte,2020).\n",
    "\n",
    "# Key Insight from Revenue (OLS TEST SCORE-0.75)\n",
    "It can be predicted from the correlation analysis, that the customer is most likely to generate low revenue when their average number of clicks (-0.55) increases or is high. It can also be seen in our boxplot that if the number of clicks exceeds 7 the probability of generating a lower revenue is high. Research has shown targeting customers through emails requires fewer clicks to generate sales (Patel, 2020).\n",
    "\n",
    "\n",
    "# Conclusion\n",
    "One golden rule in cross-selling is increasing value for the customer by promoting related products. Therefore, given that the main demographic target customers are professional, it can be concluded that cross sell promotion achieved that objective. Also, a click involves an interaction cost to a user so updates have to be made to the website to reduce this number which will lead to generate more revenue.\n",
    "\n",
    "# References\n",
    "5 Smart Cross-Selling Strategies to Increase eCommerce Revenue | Yieldify. (2021). Retrieved 16 February 2021, from https://www.yieldify.com/blog/how-your-website-can-increase-sales-with-a-smart-cross-selling-campaign/\n",
    "What is The Optimum Number of Clicks Before Conversions Start Happening?. (2021). Retrieved 16 February 2021, from https://neilpatel.com/blog/what-is-the-optimum-number-of-clicks-before-conversions-start-happening/#:~:text=It's%20a%20good%20strategy%20to,lead%20to%20a%20website%20conversion\n"
   ]
  }
 ],
 "metadata": {
  "kernelspec": {
   "display_name": "Python 3",
   "language": "python",
   "name": "python3"
  },
  "language_info": {
   "codemirror_mode": {
    "name": "ipython",
    "version": 3
   },
   "file_extension": ".py",
   "mimetype": "text/x-python",
   "name": "python",
   "nbconvert_exporter": "python",
   "pygments_lexer": "ipython3",
   "version": "3.8.5"
  },
  "toc": {
   "base_numbering": 1,
   "nav_menu": {},
   "number_sections": true,
   "sideBar": true,
   "skip_h1_title": false,
   "title_cell": "Table of Contents",
   "title_sidebar": "Contents",
   "toc_cell": false,
   "toc_position": {},
   "toc_section_display": true,
   "toc_window_display": false
  },
  "varInspector": {
   "cols": {
    "lenName": 16,
    "lenType": 16,
    "lenVar": 40
   },
   "kernels_config": {
    "python": {
     "delete_cmd_postfix": "",
     "delete_cmd_prefix": "del ",
     "library": "var_list.py",
     "varRefreshCmd": "print(var_dic_list())"
    },
    "r": {
     "delete_cmd_postfix": ") ",
     "delete_cmd_prefix": "rm(",
     "library": "var_list.r",
     "varRefreshCmd": "cat(var_dic_list()) "
    }
   },
   "types_to_exclude": [
    "module",
    "function",
    "builtin_function_or_method",
    "instance",
    "_Feature"
   ],
   "window_display": false
  }
 },
 "nbformat": 4,
 "nbformat_minor": 4
}
